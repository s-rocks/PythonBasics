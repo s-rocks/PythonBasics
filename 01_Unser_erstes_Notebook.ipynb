{
 "cells": [
  {
   "cell_type": "markdown",
   "metadata": {
    "slideshow": {
     "slide_type": "slide"
    }
   },
   "source": [
    "# Python Code in Jupyter Notebook\n",
    "\n",
    "\n",
    "Toll, dass du bei unserem Python Basic Kurs dabei bist! Wir hoffen, es macht dir Spaß und du lernst ein bisschen was dabei. :) \n",
    "\n",
    "Falls du mal nicht weiterkommst, frage doch deine Nebensitzerin oder melde dich, dann kommen wir zu dir und helfen. \n",
    "\n",
    "Hier erstmal die Basics:\n",
    "\n",
    "Python ist eine Programmiersprache mit der wir für den Rechner verständliche Anweisungen und Befehle geben können, die dann ausgewertet werden. Das was du hier siehst, heißt Jupyer Notebook. Jupyter Notebooks geben uns die Möglichkeit, Python auszuführen und diesen mit Textblöcken zu kommentieren. In Jupyter Notebook haben wir also Programmiercode den wir mit Shift + Enter ausführen können und Text, den wir lesen können. Man nennt diese verschiedenen Blöcke auch Zellen. \n",
    "\n",
    "Dann probiere doch gleich mal folgende Code Zelle auszuführen: Klicke dafür auf die unterstehende Zelle und drücke Shift + Enter.\n",
    "\n",
    "\n"
   ]
  },
  {
   "cell_type": "code",
   "execution_count": null,
   "metadata": {},
   "outputs": [],
   "source": [
    "print(\"Hello world\")"
   ]
  },
  {
   "cell_type": "markdown",
   "metadata": {},
   "source": [
    "Wenn alles funktioniert hat, dann müssten jetzt die Wörter \"Hello world\", also \"Hallo Welt\" erschienen sein. Wir haben damit bereits ein sehr einfaches Computer Programm ausgeführt. \"Hello world\" wird übrigens sehr häufig in der Informatik verwendet, um zu testen, dass der Aufbau des Programms funktioniert. "
   ]
  },
  {
   "cell_type": "markdown",
   "metadata": {},
   "source": [
    "# Kommentieren\n",
    "Wenn man in ausführbaren Codezellen etwas erklären oder schreiben will, kann man mit einem \"#\" Zeilen auskommentieren. Diese werden vom Computer übersprungen und nicht ausgeführt. Das sieht dann zum Beispiel so aus: "
   ]
  },
  {
   "cell_type": "code",
   "execution_count": null,
   "metadata": {},
   "outputs": [],
   "source": [
    "# Wir wollen \"Hello world\" ausdrucken:\n",
    "print(\"Hello world\")"
   ]
  },
  {
   "cell_type": "markdown",
   "metadata": {},
   "source": [
    "Da wir in Jupyter Notebook ganze Textblöcke zwischen ausführbarem Python Code platzieren können, sind Kommentierungen eher seltener, aber sie werden uns in den nächsten Kapitel ab und zu begegnen. "
   ]
  },
  {
   "cell_type": "markdown",
   "metadata": {},
   "source": [
    "# Shortcuts"
   ]
  },
  {
   "cell_type": "markdown",
   "metadata": {},
   "source": [
    "Shortcuts sind Tastenkombinationen, also Abkürzungen, die uns das Programmieren einfacher und schneller machen sollen. \n",
    "\n",
    "* Die Abkürzung Shift+Enter haben wir gerade schon kennengelernt, sie führt den Programmcode aus\n",
    "* Wenn du eine Zelle verlassen willst, kannst du Escape drücken\n",
    "* Wenn du eine neue Zelle über der aktuellen Zelle eingügen willst, kannst du \"a\" drücken (für englisch Above).\n",
    "* Wenn du eine neue Zelle unter der aktuellen Zelle einfügen, kannst du \"b\" drücken (für englisch Below).\n",
    "\n",
    "\n",
    "Versuche das doch mal mit folgenden Zellen aus:"
   ]
  },
  {
   "cell_type": "code",
   "execution_count": null,
   "metadata": {},
   "outputs": [],
   "source": []
  },
  {
   "cell_type": "code",
   "execution_count": null,
   "metadata": {},
   "outputs": [],
   "source": []
  },
  {
   "cell_type": "code",
   "execution_count": null,
   "metadata": {},
   "outputs": [],
   "source": []
  },
  {
   "cell_type": "markdown",
   "metadata": {},
   "source": [
    "# Übung\n",
    "Füge eine Codezelle unter diese hinzu und nutze den \"print\" Befehl, um den Namen deiner Nachbarin auszugeben. Falls du ihn nicht kennst, frag einmal nach!"
   ]
  },
  {
   "cell_type": "code",
   "execution_count": null,
   "metadata": {},
   "outputs": [],
   "source": []
  }
 ],
 "metadata": {
  "kernelspec": {
   "display_name": "Python 3 (ipykernel)",
   "language": "python",
   "name": "python3"
  },
  "language_info": {
   "codemirror_mode": {
    "name": "ipython",
    "version": 3
   },
   "file_extension": ".py",
   "mimetype": "text/x-python",
   "name": "python",
   "nbconvert_exporter": "python",
   "pygments_lexer": "ipython3",
   "version": "3.12.3"
  }
 },
 "nbformat": 4,
 "nbformat_minor": 4
}
