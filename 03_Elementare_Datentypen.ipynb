{
 "cells": [
  {
   "cell_type": "markdown",
   "id": "bottom-favorite",
   "metadata": {},
   "source": [
    "# Elementare Datentypen in Python\n",
    "Wir haben im letzten Notebook gesehen wie wir Zahlen in Variablen speichern können. Wir können uns auch den Typ von Variablen anzeigen lassen.\n",
    "\n",
    "Für weitere Infos, schau dir gern die Links an:\n",
    "* [Built-in types in python](https://docs.python.org/3/library/stdtypes.html)\n",
    "* [Basic types in python](https://realpython.com/python-data-types/)\n",
    "\n",
    "Das ist eine ganze Zahl (auf englisch integer):"
   ]
  },
  {
   "cell_type": "code",
   "execution_count": null,
   "id": "strange-pencil",
   "metadata": {},
   "outputs": [],
   "source": [
    "a = 5"
   ]
  },
  {
   "cell_type": "code",
   "execution_count": null,
   "id": "western-depth",
   "metadata": {},
   "outputs": [],
   "source": [
    "type(a)"
   ]
  },
  {
   "cell_type": "markdown",
   "id": "other-socket",
   "metadata": {},
   "source": [
    "Und das ist eine gebrochene Zahl oder auch [Gleitkommazahl](https://de.wikipedia.org/wiki/Gleitkommazahl) (auf englisch floating point)."
   ]
  },
  {
   "cell_type": "code",
   "execution_count": null,
   "id": "expanded-atlantic",
   "metadata": {},
   "outputs": [],
   "source": [
    "b = 3.5"
   ]
  },
  {
   "cell_type": "code",
   "execution_count": null,
   "id": "declared-stadium",
   "metadata": {},
   "outputs": [],
   "source": [
    "type(b)"
   ]
  },
  {
   "cell_type": "markdown",
   "id": "speaking-satin",
   "metadata": {},
   "source": [
    "Wenn wir 2 Variablen mit verschiedenen Typen miteinander verrechnen, entscheidet Python welchen Typ die neue Variable hat:"
   ]
  },
  {
   "cell_type": "code",
   "execution_count": null,
   "id": "strange-maria",
   "metadata": {},
   "outputs": [],
   "source": [
    "c = a + b"
   ]
  },
  {
   "cell_type": "code",
   "execution_count": null,
   "id": "patient-insider",
   "metadata": {},
   "outputs": [],
   "source": [
    "type(c)"
   ]
  },
  {
   "cell_type": "markdown",
   "id": "integrated-politics",
   "metadata": {},
   "source": [
    "# Strings\n",
    "Variablen können auch Text enthalten, wir nennen solche Textvariablen \"strings\".\n"
   ]
  },
  {
   "cell_type": "code",
   "execution_count": null,
   "id": "severe-democracy",
   "metadata": {},
   "outputs": [],
   "source": [
    "first_name = \"Anja\"\n",
    "last_name = 'Neumann'"
   ]
  },
  {
   "cell_type": "markdown",
   "id": "scenic-consensus",
   "metadata": {},
   "source": [
    "Strings kann man mit `+` zusammenfügen:"
   ]
  },
  {
   "cell_type": "code",
   "execution_count": null,
   "id": "capable-vegetable",
   "metadata": {},
   "outputs": [],
   "source": [
    "first_name + last_name"
   ]
  },
  {
   "cell_type": "code",
   "execution_count": null,
   "id": "configured-bacteria",
   "metadata": {},
   "outputs": [],
   "source": [
    "first_name + \" \" + last_name"
   ]
  },
  {
   "cell_type": "code",
   "execution_count": null,
   "id": "5d94516d",
   "metadata": {},
   "outputs": [],
   "source": [
    "text = \"Sie sagte 'Hi'.\"\n",
    "print(text)"
   ]
  },
  {
   "cell_type": "code",
   "execution_count": null,
   "id": "8a0ce0be",
   "metadata": {},
   "outputs": [],
   "source": [
    "text = 'Er sagte \"Wie geht es dir?\".'\n",
    "print(text)"
   ]
  },
  {
   "cell_type": "markdown",
   "id": "b2aad18a",
   "metadata": {},
   "source": [
    "## Zusammenfügen von Strings und Zahlen"
   ]
  },
  {
   "cell_type": "markdown",
   "id": "beneficial-willow",
   "metadata": {},
   "source": [
    "Wenn wir eine Variable vom Typ 'string' mit einer numerischen Variable kombinieren wollen, können Fehlermeldungen auftreten:"
   ]
  },
  {
   "cell_type": "code",
   "execution_count": null,
   "id": "naughty-panic",
   "metadata": {},
   "outputs": [],
   "source": [
    "first_name + a"
   ]
  },
  {
   "cell_type": "markdown",
   "id": "whole-disabled",
   "metadata": {},
   "source": [
    "Solche Fehler können wir vermeiden indem wir die numerische Variable mit Hilfe der Funktion  `str()` in eine Textvariable überführen:"
   ]
  },
  {
   "cell_type": "code",
   "execution_count": null,
   "id": "mental-curve",
   "metadata": {},
   "outputs": [],
   "source": [
    "first_name + str(a)"
   ]
  },
  {
   "cell_type": "markdown",
   "id": "significant-church",
   "metadata": {},
   "source": [
    "Umgekehrt können wir auch Textvariablen in Zahlen umformen, vorausgesetzt unser String enthält auch eine Zahl."
   ]
  },
  {
   "cell_type": "code",
   "execution_count": null,
   "id": "optical-maker",
   "metadata": {},
   "outputs": [],
   "source": [
    "d = \"5\""
   ]
  },
  {
   "cell_type": "code",
   "execution_count": null,
   "id": "continent-march",
   "metadata": {},
   "outputs": [],
   "source": [
    "int(d)"
   ]
  },
  {
   "cell_type": "code",
   "execution_count": null,
   "id": "becoming-moisture",
   "metadata": {},
   "outputs": [],
   "source": [
    "a + int(d)"
   ]
  },
  {
   "cell_type": "markdown",
   "id": "unnecessary-brazilian",
   "metadata": {},
   "source": [
    "Falls die Textvariable keine Zahl enthält, können Fehlermeldungen auftreten:"
   ]
  },
  {
   "cell_type": "code",
   "execution_count": null,
   "id": "professional-guyana",
   "metadata": {},
   "outputs": [],
   "source": [
    "int(\"hello\")"
   ]
  },
  {
   "cell_type": "code",
   "execution_count": null,
   "id": "consolidated-arrow",
   "metadata": {},
   "outputs": [],
   "source": [
    "int(\"\")"
   ]
  },
  {
   "cell_type": "code",
   "execution_count": null,
   "id": "outstanding-punishment",
   "metadata": {},
   "outputs": [],
   "source": [
    "int(\"5\")"
   ]
  },
  {
   "cell_type": "markdown",
   "id": "bace6f17-fbfe-4a31-be97-7c274b24dba3",
   "metadata": {},
   "source": [
    "Wir können einen String in Python auch folgendermaßen `f`ormatieren:"
   ]
  },
  {
   "cell_type": "code",
   "execution_count": null,
   "id": "49a3d501-a741-4f29-93b8-5aa8f7d688e3",
   "metadata": {},
   "outputs": [],
   "source": [
    "f\"Unsere Übung leitet heute {first_name} {last_name}\""
   ]
  },
  {
   "cell_type": "markdown",
   "id": "offshore-grenada",
   "metadata": {},
   "source": [
    "# Übung\n",
    "[Marie Curie's](https://en.wikipedia.org/wiki/Marie_Curie) Name und Geburtstag ist den Variablen unten gespeichert. Füge die Variablen zusammen und gib das Ergebnis mit print aus. Die Ausgabe sollte so aussehen: \"Marie Curie, *7. November 1867\""
   ]
  },
  {
   "cell_type": "code",
   "execution_count": null,
   "id": "nasty-guarantee",
   "metadata": {},
   "outputs": [],
   "source": [
    "first_name = \"Marie\"\n",
    "last_name = \"Curie\"\n",
    "\n",
    "birthday_day = 7\n",
    "birthday_month = \"November\"\n",
    "birthday_year = 1867"
   ]
  },
  {
   "cell_type": "code",
   "execution_count": null,
   "id": "modified-advancement",
   "metadata": {},
   "outputs": [],
   "source": []
  }
 ],
 "metadata": {
  "kernelspec": {
   "display_name": "Python 3 (ipykernel)",
   "language": "python",
   "name": "python3"
  },
  "language_info": {
   "codemirror_mode": {
    "name": "ipython",
    "version": 3
   },
   "file_extension": ".py",
   "mimetype": "text/x-python",
   "name": "python",
   "nbconvert_exporter": "python",
   "pygments_lexer": "ipython3",
   "version": "3.12.3"
  }
 },
 "nbformat": 4,
 "nbformat_minor": 5
}
