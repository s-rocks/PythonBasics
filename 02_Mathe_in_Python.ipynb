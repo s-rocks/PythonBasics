{
 "cells": [
  {
   "cell_type": "markdown",
   "metadata": {
    "slideshow": {
     "slide_type": "slide"
    }
   },
   "source": [
    "# Mathe in Python\n",
    "Jetzt werden wir uns das Konzept der Variablen und einfache mathematische Operationen in Python angucken. \n",
    "\n",
    "Fangen wir zunächst mit Variablen an. Variablen sind Platzhalter für Werte (z.B. Zahlen, Vektoren oder Text). \n",
    "\n",
    "Hier schreiben wir der Variablen \"a\" den Wert 5 zu. Führe diese Python Zelle einmal aus und gucke, was passiert. "
   ]
  },
  {
   "cell_type": "code",
   "execution_count": null,
   "metadata": {},
   "outputs": [],
   "source": [
    "a = 5"
   ]
  },
  {
   "cell_type": "markdown",
   "metadata": {},
   "source": [
    "Es wird erstmal nichts groß angezeigt, außer dass wir diese Zelle als erste ausgeführt haben. (In [1])\n",
    "\n",
    "Das Programm hat sich jetzt gemerkt, dass die Variable \"a\" einen Wert hat und können die Variable im Verlauf des Skriptes weiter verwenden:"
   ]
  },
  {
   "cell_type": "code",
   "execution_count": null,
   "metadata": {},
   "outputs": [],
   "source": [
    "print(a)"
   ]
  },
  {
   "cell_type": "markdown",
   "metadata": {},
   "source": [
    "Manchmal ist es praktisch, wenn wir Text und Variable ausgeben können. Das geht dann beispielsweise so:"
   ]
  },
  {
   "cell_type": "code",
   "execution_count": null,
   "metadata": {},
   "outputs": [],
   "source": [
    "print(f\"Die Strecke ist {a} m lang.\")"
   ]
  },
  {
   "cell_type": "markdown",
   "metadata": {},
   "source": [
    "Jetzt können wir mehr Variablen einführen und mit diesen mathematische Operationen ausführen. "
   ]
  },
  {
   "cell_type": "code",
   "execution_count": null,
   "metadata": {},
   "outputs": [],
   "source": [
    "b = 3\n",
    "c = a + b"
   ]
  },
  {
   "cell_type": "code",
   "execution_count": null,
   "metadata": {},
   "outputs": [],
   "source": [
    "print(c)"
   ]
  },
  {
   "cell_type": "code",
   "execution_count": null,
   "metadata": {},
   "outputs": [],
   "source": [
    "d = 6\n",
    "e = 7\n",
    "f = a * d\n",
    "g = f / e\n",
    "h = 1 + g"
   ]
  },
  {
   "cell_type": "code",
   "execution_count": null,
   "metadata": {},
   "outputs": [],
   "source": [
    "print(h)"
   ]
  },
  {
   "cell_type": "markdown",
   "metadata": {},
   "source": [
    "Wir können uns die Varibalen auch ohne print Befehl ausgeben lassen:"
   ]
  },
  {
   "cell_type": "code",
   "execution_count": null,
   "metadata": {},
   "outputs": [],
   "source": [
    "h"
   ]
  },
  {
   "cell_type": "code",
   "execution_count": null,
   "metadata": {},
   "outputs": [],
   "source": [
    "a + b"
   ]
  },
  {
   "cell_type": "markdown",
   "metadata": {},
   "source": [
    "Manchmal passiert es, dass wir Fehler in unseren Programmcode einbauen und dieser daher nicht ausgeführt werden kann. Dann bekommen wir eine Fehlermeldung. So zum Beispiel, wenn wir probieren durch Null zu teilen:"
   ]
  },
  {
   "cell_type": "code",
   "execution_count": null,
   "metadata": {},
   "outputs": [],
   "source": [
    "a / 0"
   ]
  },
  {
   "cell_type": "markdown",
   "metadata": {},
   "source": [
    "Ließ dir die Fehlermeldung einmal durch. Sie sagt dir sehr genau, was das Problem ist.\n",
    "\n",
    "Wenn eine Variable nicht definiert ist, erhälst du ebenfalls eine Fehlermeldung:"
   ]
  },
  {
   "cell_type": "code",
   "execution_count": null,
   "metadata": {},
   "outputs": [],
   "source": [
    "a / k"
   ]
  },
  {
   "cell_type": "markdown",
   "metadata": {},
   "source": [
    "Definiere die Variable k doch einmal mit einer Zahl deiner Wahl (vielleicht dein Alter?) und behebe so die Fehlermeldung. Dafür kannst du direkt in die obere Zelle schreiben oder eine neue Zelle hinzufügen. Führe die Zelle mit der Rechenoperation danach erneut aus."
   ]
  },
  {
   "cell_type": "markdown",
   "metadata": {},
   "source": [
    "# Mathe Funktionen\n",
    "Python besitzt bereits viele Funktionen, die wir nutzen können. Dann müssen wir sie nicht selber definieren und sparen uns viel Zeit.\n",
    "\n",
    "Was machen diese Funktionen? Wenn du dir nicht ganz sicher bist, kannst du andere Zahlen einsetzen, damit du mehrere Ergebnisse hast."
   ]
  },
  {
   "cell_type": "code",
   "execution_count": null,
   "metadata": {},
   "outputs": [],
   "source": [
    "pow(3, 2)"
   ]
  },
  {
   "cell_type": "code",
   "execution_count": null,
   "metadata": {},
   "outputs": [],
   "source": [
    "abs(-8)"
   ]
  },
  {
   "cell_type": "code",
   "execution_count": null,
   "metadata": {},
   "outputs": [],
   "source": [
    "round(4.6)"
   ]
  },
  {
   "cell_type": "markdown",
   "metadata": {},
   "source": [
    "# Mathe Bibliotheken\n",
    "Es gibt auch Bibliotheken, die wir nutzen können, um noch weitere komplexere mathematische Operationen zu rechnen, die nicht in Python definiert sind. So zum Beispiel die Bibliothek \"math\".\n",
    "\n",
    "Führe einmal diese Zelle aus und lese die Fehlermeldung. Was ist das Problem?"
   ]
  },
  {
   "cell_type": "code",
   "execution_count": null,
   "metadata": {},
   "outputs": [],
   "source": [
    "math.sqrt(9)"
   ]
  },
  {
   "cell_type": "markdown",
   "metadata": {},
   "source": [
    "Um die Bibliothek \"math\" nutzen zu können, müssen wir diese zunächst laden:"
   ]
  },
  {
   "cell_type": "code",
   "execution_count": null,
   "metadata": {},
   "outputs": [],
   "source": [
    "import math"
   ]
  },
  {
   "cell_type": "markdown",
   "metadata": {},
   "source": [
    "Jetzt funktioniert es hoffentlich! Was macht die Funktion math.sqrt()? Probiere die Funktion auch hier gern mit anderen Zahlen aus."
   ]
  },
  {
   "cell_type": "code",
   "execution_count": null,
   "metadata": {},
   "outputs": [],
   "source": [
    "math.sqrt(9)"
   ]
  },
  {
   "cell_type": "markdown",
   "metadata": {},
   "source": [
    "# Übung\n",
    "Wir haben 2 Seiten von einem rechtwinkligen Dreieck gegeben (in cm), die beiden Seiten umschließen den rechten Winkel. Berechene die Länge der fehlenden Seite. Nutze den [Satz des Pythagoras](https://de.wikipedia.org/wiki/Satz_des_Pythagoras)\n",
    "\n",
    "Tausche dich gerne mit deiner Nachbarin aus. Falls ihr nicht weiterkommt, helfen wir euch gerne weiter."
   ]
  },
  {
   "cell_type": "code",
   "execution_count": null,
   "metadata": {},
   "outputs": [],
   "source": [
    "a = 5\n",
    "b = 3"
   ]
  },
  {
   "cell_type": "code",
   "execution_count": null,
   "metadata": {},
   "outputs": [],
   "source": []
  }
 ],
 "metadata": {
  "kernelspec": {
   "display_name": "Python 3 (ipykernel)",
   "language": "python",
   "name": "python3"
  },
  "language_info": {
   "codemirror_mode": {
    "name": "ipython",
    "version": 3
   },
   "file_extension": ".py",
   "mimetype": "text/x-python",
   "name": "python",
   "nbconvert_exporter": "python",
   "pygments_lexer": "ipython3",
   "version": "3.12.3"
  }
 },
 "nbformat": 4,
 "nbformat_minor": 4
}
